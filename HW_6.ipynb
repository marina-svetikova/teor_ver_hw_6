{
 "cells": [
  {
   "cell_type": "markdown",
   "id": "33aa3364",
   "metadata": {},
   "source": [
    "Задача 1: Известно, что генеральная совокупность распределена нормально со средним квадратическим отклонением, равным 16.\n",
    "\n",
    "Найти доверительный интервал для оценки математического ожидания a с надежностью 0.95, если выборочная средняя M = 80, а объем выборки n = 256."
   ]
  },
  {
   "cell_type": "code",
   "execution_count": 10,
   "id": "bc8e2c36",
   "metadata": {},
   "outputs": [],
   "source": [
    "import numpy as np\n",
    "from scipy import stats"
   ]
  },
  {
   "cell_type": "code",
   "execution_count": 2,
   "id": "81270fff",
   "metadata": {},
   "outputs": [
    {
     "name": "stdout",
     "output_type": "stream",
     "text": [
      ">>> Доверительный интервал: [78.04 ; 81.96].\n"
     ]
    }
   ],
   "source": [
    "x=80-1.96*16/256**0.5\n",
    "y=80+1.96*16/256**0.5\n",
    "print(f'>>> Доверительный интервал: [{x} ; {y}].')"
   ]
  },
  {
   "cell_type": "markdown",
   "id": "dc052327",
   "metadata": {},
   "source": [
    "Задача 2. В результате 10 независимых измерений некоторой величины X, выполненных с одинаковой точностью, получены опытные данные:\n",
    "\n",
    "6.9, 6.1, 6.2, 6.8, 7.5, 6.3, 6.4, 6.9, 6.7, 6.1\n",
    "\n",
    "Предполагая, что результаты измерений подчинены нормальному закону распределения вероятностей, оценить истинное значение величины X при помощи доверительного интервала, покрывающего это значение с доверительной вероятностью 0,95.\n",
    "Сигма неизвестна. "
   ]
  },
  {
   "cell_type": "code",
   "execution_count": 12,
   "id": "709dd1db",
   "metadata": {},
   "outputs": [],
   "source": [
    "import numpy as np\n",
    "from scipy import stats"
   ]
  },
  {
   "cell_type": "code",
   "execution_count": 13,
   "id": "2290786d",
   "metadata": {},
   "outputs": [
    {
     "name": "stdout",
     "output_type": "stream",
     "text": [
      ">>> Среднее арифметическое для выборки: 6.590000000000001\n"
     ]
    }
   ],
   "source": [
    "a = np.array([6.9, 6.1, 6.2, 6.8, 7.5, 6.3, 6.4, 6.9, 6.7, 6.1])\n",
    "x_1 = np.mean(a)\n",
    "print(f'>>> Среднее арифметическое для выборки: {x_1}')"
   ]
  },
  {
   "cell_type": "code",
   "execution_count": 15,
   "id": "ddd87f5a",
   "metadata": {},
   "outputs": [
    {
     "name": "stdout",
     "output_type": "stream",
     "text": [
      ">>> Среднее квадратическое отклонение по выборке(несмещенное): 0.4508017549014448\n"
     ]
    }
   ],
   "source": [
    "sigma = np.std(a, ddof=1)\n",
    "print(f'>>> Среднее квадратическое отклонение по выборке(несмещенное): {sigma}')"
   ]
  },
  {
   "cell_type": "code",
   "execution_count": 23,
   "id": "f17fb4fa",
   "metadata": {},
   "outputs": [],
   "source": [
    "from scipy import stats"
   ]
  },
  {
   "cell_type": "code",
   "execution_count": 24,
   "id": "3cc52e9f",
   "metadata": {
    "scrolled": true
   },
   "outputs": [
    {
     "name": "stdout",
     "output_type": "stream",
     "text": [
      ">>> Значение t-критерия для [-5.9 -5.1 -5.2 -5.8 -6.5 -5.3 -5.4 -5.9 -5.7 -5.1]% доверительного интервала: 2.2621571627409915\n"
     ]
    }
   ],
   "source": [
    "t = stats.t.ppf(0.975,9)\n",
    "print(f'>>> Значение t-критерия для {1-a}% доверительного интервала: {t}')"
   ]
  },
  {
   "cell_type": "code",
   "execution_count": 28,
   "id": "7f3accb8",
   "metadata": {},
   "outputs": [
    {
     "name": "stdout",
     "output_type": "stream",
     "text": [
      ">>> Доверительный интервал для величины \"X\" составляет: [6.268 ; 6.912]\n"
     ]
    }
   ],
   "source": [
    "t_1=x_1-t*sigma/np.sqrt(10)\n",
    "t_2=x_1+t*sigma/np.sqrt(10)\n",
    "print(f'>>> Доверительный интервал для величины \"X\" составляет: [{t_1:.3f} ; {t_2:.3f}]')"
   ]
  },
  {
   "cell_type": "markdown",
   "id": "dc63a5a4",
   "metadata": {},
   "source": [
    "Задача 3. 3)Рост дочерей 175, 167, 154, 174, 178, 148, 160, 167, 169, 170\n",
    "Рост матерей  178, 165, 165, 173, 168, 155, 160, 164, 178, 175\n",
    "Используя эти данные построить 95% доверительный интервал для разности среднего роста родителей и детей."
   ]
  },
  {
   "cell_type": "code",
   "execution_count": 29,
   "id": "d134c8b3",
   "metadata": {},
   "outputs": [],
   "source": [
    "import numpy as np\n",
    "from scipy import stats"
   ]
  },
  {
   "cell_type": "code",
   "execution_count": 30,
   "id": "0f734dde",
   "metadata": {},
   "outputs": [],
   "source": [
    "daughters = np.array([175, 167, 154, 174, 178, 148, 160, 167, 169, 170])\n",
    "mothers = np.array([178, 165, 165, 173, 168, 155, 160, 164, 178, 175])"
   ]
  },
  {
   "cell_type": "code",
   "execution_count": 32,
   "id": "31eefd5f",
   "metadata": {},
   "outputs": [
    {
     "name": "stdout",
     "output_type": "stream",
     "text": [
      ">>> Среднее арифметическое для выборки: [166.2 ; 168.1]\n"
     ]
    }
   ],
   "source": [
    "mean_daughters = np.mean(daughters)\n",
    "mean_mothers = np.mean(mothers)\n",
    "print(f'>>> Среднее арифметическое для выборки: [{mean_daughters} ; {mean_mothers}]')"
   ]
  },
  {
   "cell_type": "code",
   "execution_count": 33,
   "id": "f507254d",
   "metadata": {},
   "outputs": [
    {
     "name": "stdout",
     "output_type": "stream",
     "text": [
      ">>> разность средних: 1.9000000000000057\n"
     ]
    }
   ],
   "source": [
    "delta = mean_mothers - mean_daughters\n",
    "print(f'>>> разность средних: {delta}')"
   ]
  },
  {
   "cell_type": "code",
   "execution_count": 34,
   "id": "ce9ea84e",
   "metadata": {},
   "outputs": [
    {
     "name": "stdout",
     "output_type": "stream",
     "text": [
      ">>> несмещенная дисперсия:[91.06666666666666 ; 60.10000000000001]\n"
     ]
    }
   ],
   "source": [
    "D1 = np.var(daughters, ddof=1)\n",
    "D2 = np.var(mothers, ddof=1)\n",
    "print(f'>>> несмещенная дисперсия:[{D1} ; {D2}]')"
   ]
  },
  {
   "cell_type": "code",
   "execution_count": 36,
   "id": "9b14a659",
   "metadata": {},
   "outputs": [
    {
     "name": "stdout",
     "output_type": "stream",
     "text": [
      ">>> стандартная ощибка разности средних:[3.888015775002291]\n"
     ]
    }
   ],
   "source": [
    "se = np.sqrt(D1/len(daughters) + D2/len(mothers))\n",
    "print(f'>>> стандартная ощибка разности средних:[{se}]')"
   ]
  },
  {
   "cell_type": "code",
   "execution_count": 39,
   "id": "417b9016",
   "metadata": {},
   "outputs": [
    {
     "name": "stdout",
     "output_type": "stream",
     "text": [
      ">>> Значение t-критерия для [-5.9 -5.1 -5.2 -5.8 -6.5 -5.3 -5.4 -5.9 -5.7 -5.1]% доверительного интервала: 2.10092204024096\n"
     ]
    }
   ],
   "source": [
    "t = stats.t.ppf(0.975,18)\n",
    "print(f'>>> Значение t-критерия для {1-a}% доверительного интервала: {t}')"
   ]
  },
  {
   "cell_type": "code",
   "execution_count": 41,
   "id": "70a6f21c",
   "metadata": {},
   "outputs": [
    {
     "name": "stdout",
     "output_type": "stream",
     "text": [
      ">>> 95% доверительный интервал для разности среднего роста родителей и детей: [(-6.268418034506846, 10.068418034506857)\n"
     ]
    }
   ],
   "source": [
    "result = (delta - t*se, delta + t*se)\n",
    "print(f'>>> 95% доверительный интервал для разности среднего роста родителей и детей: [{result}')"
   ]
  }
 ],
 "metadata": {
  "kernelspec": {
   "display_name": "Python 3 (ipykernel)",
   "language": "python",
   "name": "python3"
  },
  "language_info": {
   "codemirror_mode": {
    "name": "ipython",
    "version": 3
   },
   "file_extension": ".py",
   "mimetype": "text/x-python",
   "name": "python",
   "nbconvert_exporter": "python",
   "pygments_lexer": "ipython3",
   "version": "3.9.13"
  }
 },
 "nbformat": 4,
 "nbformat_minor": 5
}
