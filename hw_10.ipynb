{
 "cells": [
  {
   "cell_type": "markdown",
   "id": "cbe6c7e0",
   "metadata": {},
   "source": [
    "Провести дисперсионный анализ для определения того, есть ли различия среднего роста среди взрослых футболистов,\n",
    "хоккеистов и штангистов.\n",
    "Даны значения роста в трех группах случайно выбранных спортсменов:\n",
    "Футболисты: 173, 175, 180, 178, 177, 185, 183, 182.\n",
    "Хоккеисты: 177, 179, 180, 188, 177, 172, 171, 184, 180.\n",
    "Штангисты: 172, 173, 169, 177, 166, 180, 178, 177, 172, 166, 170."
   ]
  },
  {
   "cell_type": "code",
   "execution_count": 1,
   "id": "aa46cf7a",
   "metadata": {},
   "outputs": [],
   "source": [
    "import numpy as np\n",
    "from scipy.stats import f_oneway"
   ]
  },
  {
   "cell_type": "code",
   "execution_count": 2,
   "id": "81b1f57f",
   "metadata": {},
   "outputs": [],
   "source": [
    "football = [173, 175, 180, 178, 177, 185, 183, 182]\n",
    "hockey = [177, 179, 180, 188, 177, 172, 171, 184, 180]\n",
    "weightlifting = [172, 173, 169, 177, 166, 180, 178, 177, 172, 166, 170]"
   ]
  },
  {
   "cell_type": "markdown",
   "id": "1df2e967",
   "metadata": {},
   "source": [
    "Дисперсионный анализ основывается на расчете F-статистики, которая определяется как отношение суммы квадратов между группами к сумме квадратов внутри групп. Чем больше значение F-статистики, тем больше различия средних значений внутри групп."
   ]
  },
  {
   "cell_type": "code",
   "execution_count": 3,
   "id": "99bece51",
   "metadata": {},
   "outputs": [
    {
     "name": "stdout",
     "output_type": "stream",
     "text": [
      "F-статистика: 5.500053450812596, p-value: 0.010482206918698694\n"
     ]
    }
   ],
   "source": [
    "f, p = f_oneway(football, hockey, weightlifting)\n",
    "print(f'F-статистика: {f}, p-value: {p}')"
   ]
  },
  {
   "cell_type": "markdown",
   "id": "78615f3a",
   "metadata": {},
   "source": [
    "p-value меньше, чем alpha (0.05), можно сделать вывод, что есть статистически значимые различия между группами в среднем значении роста. "
   ]
  }
 ],
 "metadata": {
  "kernelspec": {
   "display_name": "Python 3 (ipykernel)",
   "language": "python",
   "name": "python3"
  },
  "language_info": {
   "codemirror_mode": {
    "name": "ipython",
    "version": 3
   },
   "file_extension": ".py",
   "mimetype": "text/x-python",
   "name": "python",
   "nbconvert_exporter": "python",
   "pygments_lexer": "ipython3",
   "version": "3.9.13"
  }
 },
 "nbformat": 4,
 "nbformat_minor": 5
}
